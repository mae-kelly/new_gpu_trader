{
 "cells": [
  {
   "cell_type": "markdown",
   "metadata": {},
   "source": [
    "# APEX: $10 → $1000 Ultra-Aggressive Trading System\n",
    "Production backend for Google Colab deployment"
   ]
  },
  {
   "cell_type": "code",
   "execution_count": null,
   "metadata": {},
   "outputs": [],
   "source": [
    "!bash setup_colab.sh"
   ]
  },
  {
   "cell_type": "code",
   "execution_count": null,
   "metadata": {},
   "outputs": [],
   "source": [
    "import os\n",
    "import asyncio\n",
    "import nest_asyncio\n",
    "nest_asyncio.apply()\n",
    "\n",
    "os.environ['WALLET_ADDRESS'] = 'your_wallet_address_here'\n",
    "os.environ['PRIVATE_KEY'] = 'your_private_key_here'\n",
    "os.environ['RPC_URL'] = 'https://rpc.ankr.com/polygon'"
   ]
  },
  {
   "cell_type": "code",
   "execution_count": null,
   "metadata": {},
   "outputs": [],
   "source": [
    "from scanner.hyperscan import scanner\n",
    "from brain.ai_predictor import predictor\n",
    "from executor.trade_executor import executor\n",
    "\n",
    "async def initialize_system():\n",
    "    print(\"🚀 Initializing APEX Trading System...\")\n",
    "    await scanner.init()\n",
    "    await predictor.init()\n",
    "    await executor.init()\n",
    "    print(\"✅ System ready!\")\n",
    "\n",
    "await initialize_system()"
   ]
  },
  {
   "cell_type": "code",
   "execution_count": null,
   "metadata": {},
   "outputs": [],
   "source": [
    "import time\n",
    "from IPython.display import clear_output\n",
    "\n",
    "async def monitor_system():\n",
    "    while True:\n",
    "        try:\n",
    "            clear_output(wait=True)\n",
    "            \n",
    "            stats = await scanner.get_stats()\n",
    "            opportunities = await scanner.get_top_opportunities(10)\n",
    "            predictions = await predictor.get_top_predictions(10)\n",
    "            positions = await executor.get_positions()\n",
    "            performance = await executor.get_performance()\n",
    "            \n",
    "            print(\"💰 APEX TRADING SYSTEM - LIVE STATUS\")\n",
    "            print(\"=\" * 50)\n",
    "            print(f\"📊 Tokens Scanned: {stats.get('tokens_scanned', 0):,}\")\n",
    "            print(f\"⚡ Scan Rate: {stats.get('scan_rate', 0):.1f} tokens/sec\")\n",
    "            print(f\"🎯 Active Opportunities: {len(opportunities)}\")\n",
    "            print(f\"🧠 AI Predictions: {len(predictions)}\")\n",
    "            print(f\"📈 Open Positions: {len(positions)}\")\n",
    "            print(f\"💵 Current Balance: ${performance.get('current_balance', 10):.2f}\")\n",
    "            print(f\"📊 Total P&L: ${performance.get('total_pnl', 0):+.2f}\")\n",
    "            print(f\"🎯 Win Rate: {performance.get('win_rate', 0):.1f}%\")\n",
    "            print(f\"🔄 Total Trades: {performance.get('total_trades', 0)}\")\n",
    "            \n",
    "            if opportunities:\n",
    "                print(\"\\n🚀 TOP OPPORTUNITIES:\")\n",
    "                for i, opp in enumerate(opportunities[:5]):\n",
    "                    print(f\"{i+1}. {opp.symbol} - {opp.confidence:.2f} confidence, {opp.expected_return:.1f}x return\")\n",
    "                    \n",
    "            if positions:\n",
    "                print(\"\\n📊 ACTIVE POSITIONS:\")\n",
    "                for pos in positions:\n",
    "                    print(f\"• {pos.symbol}: {pos.pnl_percent:+.1f}% (${pos.pnl_usd:+.2f})\")\n",
    "            \n",
    "            await asyncio.sleep(2)\n",
    "            \n",
    "        except KeyboardInterrupt:\n",
    "            print(\"\\n🛑 System stopped by user\")\n",
    "            break\n",
    "        except Exception as e:\n",
    "            print(f\"⚠️ Error: {e}\")\n",
    "            await asyncio.sleep(5)\n",
    "\n",
    "await monitor_system()"
   ]
  },
  {
   "cell_type": "code",
   "execution_count": null,
   "metadata": {},
   "outputs": [],
   "source": [
    "from api.main import app\n",
    "import uvicorn\n",
    "from threading import Thread\n",
    "\n",
    "def run_api():\n",
    "    uvicorn.run(app, host=\"0.0.0.0\", port=8000)\n",
    "\n",
    "api_thread = Thread(target=run_api, daemon=True)\n",
    "api_thread.start()\n",
    "\n",
    "print(\"🌐 API server started on port 8000\")\n",
    "print(\"📡 WebSocket endpoint: ws://localhost:8000/ws\")\n",
    "print(\"🔗 API endpoints:\")\n",
    "print(\"  - GET /api/buy-signals\")\n",
    "print(\"  - GET /api/sell-signals\")\n",
    "print(\"  - GET /api/stats\")\n",
    "print(\"  - GET /api/performance\")"
   ]
  }
 ],
 "metadata": {
  "kernelspec": {
   "display_name": "Python 3",
   "language": "python",
   "name": "python3"
  },
  "language_info": {
   "codemirror_mode": {
    "name": "ipython",
    "version": 3
   },
   "file_extension": ".py",
   "name": "python",
   "nbconvert_exporter": "python",
   "pygments_lexer": "ipython3",
   "version": "3.8.5"
  }
 },
 "nbformat": 4,
 "nbformat_minor": 4
}
